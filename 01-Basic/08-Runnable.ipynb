{
 "cells": [
  {
   "cell_type": "markdown",
   "id": "635d8ebb",
   "metadata": {},
   "source": [
    "# Runnable\n",
    "\n",
    "- Author: [hyeyeoon](https://github.com/hyeyeoon)\n",
    "- Peer Review : [hong-seongmin](https://github.com/hong-seongmin), [Wooseok Jeong](https://github.com/jeong-wooseok)\n",
    "- Proofread : [Q0211](https://github.com/Q0211)\n",
    "- This is a part of [LangChain Open Tutorial](https://github.com/LangChain-OpenTutorial/LangChain-OpenTutorial)\n",
    "\n",
    "[![Open in Colab](https://colab.research.google.com/assets/colab-badge.svg)](https://colab.research.google.com/github/LangChain-OpenTutorial/LangChain-OpenTutorial/blob/main/01-Basic/08-Runnable.ipynb)\n",
    "[![Open in GitHub](https://img.shields.io/badge/Open%20in%20GitHub-181717?style=flat-square&logo=github&logoColor=white)](https://github.com/LangChain-OpenTutorial/LangChain-OpenTutorial/blob/main/01-Basic/08-Runnable.ipynb)\n",
    "\n",
    "## Overview\n",
    "\n",
    "LangChain's ```Runnable``` objects provide a modular and flexible approach to designing workflows by enabling the chaining, parallel execution, and transformation of data. These utilities allow for efficient handling of structured inputs and outputs, with minimal code overhead.\n",
    "\n",
    "Key Components is:\n",
    "\n",
    "- **```RunnableLambda```**: A lightweight utility that enables the application of custom logic through lambda functions, ideal for dynamic and quick data transformations.\n",
    "- **```RunnablePassthrough```**: Designed to pass input data unchanged or augment it with additional attributes when paired with the ```.assign()``` method.\n",
    "- **```itemgetter```**: A Python ```operator``` module utility for efficiently extracting specific keys or indices from structured data such as dictionaries or tuples.\n",
    "\n",
    "These tools can be combined to build powerful workflows, such as:\n",
    "\n",
    "- Extracting and processing specific data elements using ```itemgetter```.\n",
    "- Performing custom transformations with ```RunnableLambda```.\n",
    "- Creating end-to-end data pipelines with ```Runnable``` chains.\n",
    "\n",
    "By leveraging these components, users can design scalable and reusable pipelines for machine learning and data processing workflows.\n",
    "\n",
    "\n",
    "### Table of Contents\n",
    "\n",
    "- [Overview](#overview)\n",
    "- [Environment Setup](#environment-setup)\n",
    "- [Efficient Data Handling with RunnablePassthrough](#efficient-data-handling-with-runnablepassthrough)\n",
    "- [Efficient Parallel Execution with RunnableParallel](#efficient-parallel-execution-with-runnableparallel)\n",
    "- [Dynamic Processing with RunnableLambda](#dynamic-processing-with-runnablelambda)\n",
    "- [Extracting Specific Keys Using itemgetter](#extracting-specific-keys-using-itemgetter)\n",
    "\n",
    "### References\n",
    "\n",
    "- [LangChain Documentation: Runnable](https://python.langchain.com/api_reference/core/runnables/langchain_core.runnables.base.Runnable.html)\n",
    "- [LangChain Documentation](https://python.langchain.com/docs/how_to/lcel_cheatsheet/)\n",
    "- [Python operator module: itemgetter](https://docs.python.org/3/library/operator.html#operator.itemgetter)\n",
    "\n",
    "---"
   ]
  },
  {
   "cell_type": "markdown",
   "id": "c6c7aba4",
   "metadata": {},
   "source": [
    "## Environment Setup\n",
    "\n",
    "Set up the environment. You may refer to [Environment Setup](https://wikidocs.net/257836) for more details.\n",
    "\n",
    "**[Note]**\n",
    "- ```langchain-opentutorial``` is a package that provides a set of easy-to-use environment setup, useful functions and utilities for tutorials. \n",
    "- You can checkout the [```langchain-opentutorial```](https://github.com/LangChain-OpenTutorial/langchain-opentutorial-pypi) for more details."
   ]
  },
  {
   "cell_type": "code",
   "execution_count": 1,
   "id": "21943adb",
   "metadata": {},
   "outputs": [],
   "source": [
    "%%capture --no-stderr\n",
    "!pip install langchain-opentutorial"
   ]
  },
  {
   "cell_type": "code",
   "execution_count": 2,
   "id": "f25ec196",
   "metadata": {},
   "outputs": [],
   "source": [
    "# Install required packages\n",
    "from langchain_opentutorial import package\n",
    "\n",
    "package.install(\n",
    "    [\n",
    "        \"langsmith\",\n",
    "        \"langchain\",\n",
    "        \"langchain_core\",\n",
    "        \"langchain_openai\",\n",
    "    ],\n",
    "    verbose=False,\n",
    "    upgrade=False,\n",
    ")"
   ]
  },
  {
   "cell_type": "markdown",
   "id": "690a9ae0",
   "metadata": {},
   "source": [
    "You can also load the ```OPEN_API_KEY``` from the ```.env``` file."
   ]
  },
  {
   "cell_type": "code",
   "execution_count": 23,
   "id": "4f99b5b6",
   "metadata": {},
   "outputs": [
    {
     "data": {
      "text/plain": [
       "True"
      ]
     },
     "execution_count": 23,
     "metadata": {},
     "output_type": "execute_result"
    }
   ],
   "source": [
    "from dotenv import load_dotenv\n",
    "\n",
    "load_dotenv(override=True)"
   ]
  },
  {
   "cell_type": "code",
   "execution_count": 5,
   "id": "7f9065ea",
   "metadata": {},
   "outputs": [
    {
     "name": "stdout",
     "output_type": "stream",
     "text": [
      "Environment variables have been set successfully.\n"
     ]
    }
   ],
   "source": [
    "# Set local environment variables\n",
    "from langchain_opentutorial import set_env\n",
    "\n",
    "set_env(\n",
    "    {\n",
    "        \"LANGCHAIN_TRACING_V2\": \"true\",\n",
    "        \"LANGCHAIN_ENDPOINT\": \"https://api.smith.langchain.com\",\n",
    "        \"LANGCHAIN_PROJECT\": \"05-Runnable\",\n",
    "    }\n",
    ")"
   ]
  },
  {
   "cell_type": "markdown",
   "id": "aa00c3f4",
   "metadata": {},
   "source": [
    "## Efficient Data Handling with RunnablePassthrough\n",
    "\n",
    "```RunnablePassthrough``` is a utility designed to streamline data processing workflows by either passing input data unchanged or enhancing it with additional attributes. Its flexibility makes it a valuable tool for handling data in pipelines where minimal transformation or selective augmentation is required.\n",
    "\n",
    "1. **Simple Data Forwarding**\n",
    "\n",
    "- Suitable for scenarios where no transformation is required, such as logging raw data or passing it to downstream systems.\n",
    "\n",
    "2. **Dynamic Data Augmentation**\n",
    "\n",
    "- Enables the addition of metadata or context to input data for use in machine learning pipelines or analytics systems.\n",
    "\n",
    "---\n",
    "- ```RunnablePassthrough``` can either pass the input unchanged or append additional keys to it.\n",
    "- When ```RunnablePassthrough()``` is called on its own, it simply takes the input and passes it as is.\n",
    "- When called using ```RunnablePassthrough.assign(...)```, it takes the input and adds additional arguments provided to the assign function."
   ]
  },
  {
   "cell_type": "markdown",
   "id": "72d4cfa6",
   "metadata": {},
   "source": [
    "### RunnablePassthrough"
   ]
  },
  {
   "cell_type": "code",
   "execution_count": 26,
   "id": "69cb77da",
   "metadata": {},
   "outputs": [],
   "source": [
    "from langchain_core.prompts import PromptTemplate\n",
    "from langchain_openai import ChatOpenAI, AzureChatOpenAI\n",
    "import httpx\n",
    "import os \n",
    "\n",
    "AZURE_OPENAI_ENDPOINT = os.environ.get('AZURE_OPENAI_ENDPOINT')\n",
    "AZURE_OPENAI_API_VERSION = os.environ.get('AZURE_OPENAI_API_VERSION')\n",
    "AZURE_OPENAI_DEPLOYMENT_NAME = os.environ.get('AZURE_OPENAI_DEPLOYMENT_NAME')\n",
    "AZURE_OPENAI_API_KEY = os.environ.get('AZURE_OPENAI_API_KEY')\n",
    "\n",
    "httpx_client = httpx.Client(http2=True, verify=False)\n",
    "\n",
    "# Create the prompt and llm\n",
    "prompt = PromptTemplate.from_template(\"What is 10 times {num}?\")\n",
    "# llm = ChatOpenAI(temperature=0)\n",
    "llm = AzureChatOpenAI(\n",
    "    temperature=0,\n",
    "    model_name=\"gpt-4o-mini\",  # Model name\n",
    "    azure_endpoint = AZURE_OPENAI_ENDPOINT,\n",
    "    openai_api_version = AZURE_OPENAI_API_VERSION,\n",
    "    deployment_name = AZURE_OPENAI_DEPLOYMENT_NAME,\n",
    "    openai_api_key = AZURE_OPENAI_API_KEY,\n",
    "    http_client = httpx_client\n",
    ")\n",
    "\n",
    "# Create the chain\n",
    "chain = prompt | llm"
   ]
  },
  {
   "cell_type": "markdown",
   "id": "dadbd932",
   "metadata": {},
   "source": [
    "When invoking the chain with ```invoke()```, the input data must be of type ```dictionary```."
   ]
  },
  {
   "cell_type": "code",
   "execution_count": null,
   "id": "3d367787",
   "metadata": {},
   "outputs": [
    {
     "data": {
      "text/plain": [
       "AIMessage(content='10 times 5 is 50.', additional_kwargs={'refusal': None}, response_metadata={'token_usage': {'completion_tokens': 9, 'prompt_tokens': 15, 'total_tokens': 24, 'completion_tokens_details': {'accepted_prediction_tokens': 0, 'audio_tokens': 0, 'reasoning_tokens': 0, 'rejected_prediction_tokens': 0}, 'prompt_tokens_details': {'audio_tokens': 0, 'cached_tokens': 0}}, 'model_name': 'gpt-4o-mini-2024-07-18', 'system_fingerprint': 'fp_57db37749c', 'prompt_filter_results': [{'prompt_index': 0, 'content_filter_results': {'hate': {'filtered': False, 'severity': 'safe'}, 'self_harm': {'filtered': False, 'severity': 'safe'}, 'sexual': {'filtered': False, 'severity': 'safe'}, 'violence': {'filtered': False, 'severity': 'safe'}}}], 'finish_reason': 'stop', 'logprobs': None, 'content_filter_results': {'hate': {'filtered': False, 'severity': 'safe'}, 'self_harm': {'filtered': False, 'severity': 'safe'}, 'sexual': {'filtered': False, 'severity': 'safe'}, 'violence': {'filtered': False, 'severity': 'safe'}}}, id='run--54ad7889-a13e-4b5c-a5b6-ee6f7e255aa4-0', usage_metadata={'input_tokens': 15, 'output_tokens': 9, 'total_tokens': 24, 'input_token_details': {'audio': 0, 'cache_read': 0}, 'output_token_details': {'audio': 0, 'reasoning': 0}})"
      ]
     },
     "execution_count": 7,
     "metadata": {},
     "output_type": "execute_result"
    },
    {
     "name": "stderr",
     "output_type": "stream",
     "text": [
      "Failed to multipart ingest runs: Connection error caused failure to POST https://api.smith.langchain.com/runs/multipart in LangSmith API. Please confirm your internet connection. SSLError(MaxRetryError(\"HTTPSConnectionPool(host='api.smith.langchain.com', port=443): Max retries exceeded with url: /runs/multipart (Caused by SSLError(SSLCertVerificationError(1, '[SSL: CERTIFICATE_VERIFY_FAILED] certificate verify failed: self signed certificate in certificate chain (_ssl.c:992)')))\"))\n",
      "Content-Length: 1667\n",
      "API Key: lsv2_********************************************35trace=d4e49ba5-db0d-4a4e-8704-b64e22b9bd0d,id=d4e49ba5-db0d-4a4e-8704-b64e22b9bd0d\n",
      "Failed to multipart ingest runs: Connection error caused failure to POST https://api.smith.langchain.com/runs/multipart in LangSmith API. Please confirm your internet connection. SSLError(MaxRetryError(\"HTTPSConnectionPool(host='api.smith.langchain.com', port=443): Max retries exceeded with url: /runs/multipart (Caused by SSLError(SSLCertVerificationError(1, '[SSL: CERTIFICATE_VERIFY_FAILED] certificate verify failed: self signed certificate in certificate chain (_ssl.c:992)')))\"))\n",
      "Content-Length: 10390\n",
      "API Key: lsv2_********************************************35trace=86a4c5ee-0769-48be-8d10-bce519b11258,id=86a4c5ee-0769-48be-8d10-bce519b11258; trace=86a4c5ee-0769-48be-8d10-bce519b11258,id=a74b630e-8ade-40fe-b1ff-cf99ee524ba2; trace=86a4c5ee-0769-48be-8d10-bce519b11258,id=8e8d6017-b6f3-4026-84ec-c50ff9986c53; trace=e4ef4258-b103-4cf1-87ea-169a5d4682a9,id=e4ef4258-b103-4cf1-87ea-169a5d4682a9; trace=e4ef4258-b103-4cf1-87ea-169a5d4682a9,id=9cc208ba-59c3-47dc-bf7b-4d1086e564b2; trace=e4ef4258-b103-4cf1-87ea-169a5d4682a9,id=64f238bf-c679-4ec2-8b39-94f3ca86bc3c\n",
      "Failed to multipart ingest runs: Connection error caused failure to POST https://api.smith.langchain.com/runs/multipart in LangSmith API. Please confirm your internet connection. SSLError(MaxRetryError(\"HTTPSConnectionPool(host='api.smith.langchain.com', port=443): Max retries exceeded with url: /runs/multipart (Caused by SSLError(SSLCertVerificationError(1, '[SSL: CERTIFICATE_VERIFY_FAILED] certificate verify failed: self signed certificate in certificate chain (_ssl.c:992)')))\"))\n",
      "Content-Length: 11834\n",
      "API Key: lsv2_********************************************35trace=f757c381-754b-4f85-9a06-a65129282cab,id=f757c381-754b-4f85-9a06-a65129282cab; trace=f757c381-754b-4f85-9a06-a65129282cab,id=2f2850ea-2050-4ab9-aef4-80e8eeb63e46; trace=f757c381-754b-4f85-9a06-a65129282cab,id=b19cb156-abaf-4a81-ab9a-5d83afa5810d; trace=f757c381-754b-4f85-9a06-a65129282cab,id=2fcdf3a1-ff9b-465e-93cf-c5497d065ea2; trace=f757c381-754b-4f85-9a06-a65129282cab,id=ef59e0b3-04ed-4492-b180-2212baff896f; trace=f757c381-754b-4f85-9a06-a65129282cab,id=9b1ab97b-1e12-4b52-ab1b-da8fbc1c37b9\n",
      "Failed to multipart ingest runs: Connection error caused failure to POST https://api.smith.langchain.com/runs/multipart in LangSmith API. Please confirm your internet connection. SSLError(MaxRetryError(\"HTTPSConnectionPool(host='api.smith.langchain.com', port=443): Max retries exceeded with url: /runs/multipart (Caused by SSLError(SSLCertVerificationError(1, '[SSL: CERTIFICATE_VERIFY_FAILED] certificate verify failed: self signed certificate in certificate chain (_ssl.c:992)')))\"))\n",
      "Content-Length: 18105\n",
      "API Key: lsv2_********************************************35trace=f757c381-754b-4f85-9a06-a65129282cab,id=f757c381-754b-4f85-9a06-a65129282cab; trace=f757c381-754b-4f85-9a06-a65129282cab,id=9b1ab97b-1e12-4b52-ab1b-da8fbc1c37b9\n",
      "Failed to multipart ingest runs: Connection error caused failure to POST https://api.smith.langchain.com/runs/multipart in LangSmith API. Please confirm your internet connection. SSLError(MaxRetryError(\"HTTPSConnectionPool(host='api.smith.langchain.com', port=443): Max retries exceeded with url: /runs/multipart (Caused by SSLError(SSLCertVerificationError(1, '[SSL: CERTIFICATE_VERIFY_FAILED] certificate verify failed: self signed certificate in certificate chain (_ssl.c:992)')))\"))\n",
      "Content-Length: 11834\n",
      "API Key: lsv2_********************************************35trace=11f814ad-8d98-483f-9166-fa8c2800c1bd,id=11f814ad-8d98-483f-9166-fa8c2800c1bd; trace=11f814ad-8d98-483f-9166-fa8c2800c1bd,id=7a19b39a-ec70-429f-8137-a265b226f22e; trace=11f814ad-8d98-483f-9166-fa8c2800c1bd,id=535110d3-0cdf-4a80-baee-d9f355661ce7; trace=11f814ad-8d98-483f-9166-fa8c2800c1bd,id=cdbd3d3c-aa12-4fee-b05b-f90861b8c32e; trace=11f814ad-8d98-483f-9166-fa8c2800c1bd,id=250ce444-8ac0-442b-9668-1fae9bd96e75; trace=11f814ad-8d98-483f-9166-fa8c2800c1bd,id=34d99e95-7975-4e8d-a186-f5a4f9ef569e\n",
      "Failed to multipart ingest runs: Connection error caused failure to POST https://api.smith.langchain.com/runs/multipart in LangSmith API. Please confirm your internet connection. SSLError(MaxRetryError(\"HTTPSConnectionPool(host='api.smith.langchain.com', port=443): Max retries exceeded with url: /runs/multipart (Caused by SSLError(SSLCertVerificationError(1, '[SSL: CERTIFICATE_VERIFY_FAILED] certificate verify failed: self signed certificate in certificate chain (_ssl.c:992)')))\"))\n",
      "Content-Length: 18105\n",
      "API Key: lsv2_********************************************35trace=11f814ad-8d98-483f-9166-fa8c2800c1bd,id=11f814ad-8d98-483f-9166-fa8c2800c1bd; trace=11f814ad-8d98-483f-9166-fa8c2800c1bd,id=250ce444-8ac0-442b-9668-1fae9bd96e75\n",
      "Failed to multipart ingest runs: Connection error caused failure to POST https://api.smith.langchain.com/runs/multipart in LangSmith API. Please confirm your internet connection. SSLError(MaxRetryError(\"HTTPSConnectionPool(host='api.smith.langchain.com', port=443): Max retries exceeded with url: /runs/multipart (Caused by SSLError(SSLCertVerificationError(1, '[SSL: CERTIFICATE_VERIFY_FAILED] certificate verify failed: self signed certificate in certificate chain (_ssl.c:992)')))\"))\n",
      "Content-Length: 11834\n",
      "API Key: lsv2_********************************************35trace=355497ca-ce85-4ee3-ad3d-352d4a9e79ea,id=355497ca-ce85-4ee3-ad3d-352d4a9e79ea; trace=355497ca-ce85-4ee3-ad3d-352d4a9e79ea,id=0cf27858-37bd-45de-a82f-91533d63af43; trace=355497ca-ce85-4ee3-ad3d-352d4a9e79ea,id=db80ec78-98aa-4d6e-9421-593f3bda5217; trace=355497ca-ce85-4ee3-ad3d-352d4a9e79ea,id=ac6b41ba-d46e-4e6d-81bd-ff424d029115; trace=355497ca-ce85-4ee3-ad3d-352d4a9e79ea,id=374ee51a-bb6b-4880-a92f-ddee7865c007; trace=355497ca-ce85-4ee3-ad3d-352d4a9e79ea,id=f265d67d-c36b-4228-9858-db4bae597576\n",
      "Failed to multipart ingest runs: Connection error caused failure to POST https://api.smith.langchain.com/runs/multipart in LangSmith API. Please confirm your internet connection. SSLError(MaxRetryError(\"HTTPSConnectionPool(host='api.smith.langchain.com', port=443): Max retries exceeded with url: /runs/multipart (Caused by SSLError(SSLCertVerificationError(1, '[SSL: CERTIFICATE_VERIFY_FAILED] certificate verify failed: self signed certificate in certificate chain (_ssl.c:992)')))\"))\n",
      "Content-Length: 9475\n",
      "API Key: lsv2_********************************************35trace=355497ca-ce85-4ee3-ad3d-352d4a9e79ea,id=6f23540a-07b6-4dd8-a4c1-d46dec1f22f7; trace=355497ca-ce85-4ee3-ad3d-352d4a9e79ea,id=355497ca-ce85-4ee3-ad3d-352d4a9e79ea; trace=355497ca-ce85-4ee3-ad3d-352d4a9e79ea,id=f265d67d-c36b-4228-9858-db4bae597576\n",
      "Failed to multipart ingest runs: Connection error caused failure to POST https://api.smith.langchain.com/runs/multipart in LangSmith API. Please confirm your internet connection. SSLError(MaxRetryError(\"HTTPSConnectionPool(host='api.smith.langchain.com', port=443): Max retries exceeded with url: /runs/multipart (Caused by SSLError(SSLCertVerificationError(1, '[SSL: CERTIFICATE_VERIFY_FAILED] certificate verify failed: self signed certificate in certificate chain (_ssl.c:992)')))\"))\n",
      "Content-Length: 12077\n",
      "API Key: lsv2_********************************************35trace=31e8c645-df68-4150-8707-e359ecee4d86,id=31e8c645-df68-4150-8707-e359ecee4d86; trace=31e8c645-df68-4150-8707-e359ecee4d86,id=5be29092-2b4e-4295-af50-9272cff7c6f8; trace=31e8c645-df68-4150-8707-e359ecee4d86,id=e78dbad4-9d45-4912-bea9-6691b4745270; trace=31e8c645-df68-4150-8707-e359ecee4d86,id=256f3416-a0ac-40f0-a42d-4f9f4ec2c847; trace=31e8c645-df68-4150-8707-e359ecee4d86,id=54900d58-e7a9-495c-9726-47899f42583f; trace=31e8c645-df68-4150-8707-e359ecee4d86,id=14b808e0-08a6-4949-aaea-17166da3b6a5\n",
      "Failed to multipart ingest runs: Connection error caused failure to POST https://api.smith.langchain.com/runs/multipart in LangSmith API. Please confirm your internet connection. SSLError(MaxRetryError(\"HTTPSConnectionPool(host='api.smith.langchain.com', port=443): Max retries exceeded with url: /runs/multipart (Caused by SSLError(SSLCertVerificationError(1, '[SSL: CERTIFICATE_VERIFY_FAILED] certificate verify failed: self signed certificate in certificate chain (_ssl.c:992)')))\"))\n",
      "Content-Length: 10590\n",
      "API Key: lsv2_********************************************35trace=31e8c645-df68-4150-8707-e359ecee4d86,id=e90843d7-82b1-4be6-a02a-beb206e59741; trace=31e8c645-df68-4150-8707-e359ecee4d86,id=31e8c645-df68-4150-8707-e359ecee4d86; trace=31e8c645-df68-4150-8707-e359ecee4d86,id=14b808e0-08a6-4949-aaea-17166da3b6a5\n",
      "Failed to multipart ingest runs: Connection error caused failure to POST https://api.smith.langchain.com/runs/multipart in LangSmith API. Please confirm your internet connection. SSLError(MaxRetryError(\"HTTPSConnectionPool(host='api.smith.langchain.com', port=443): Max retries exceeded with url: /runs/multipart (Caused by SSLError(SSLCertVerificationError(1, '[SSL: CERTIFICATE_VERIFY_FAILED] certificate verify failed: self signed certificate in certificate chain (_ssl.c:992)')))\"))\n",
      "Content-Length: 37479\n",
      "API Key: lsv2_********************************************35trace=56d894d4-7fc5-45d3-9ff2-3a8d4d1057ac,id=56d894d4-7fc5-45d3-9ff2-3a8d4d1057ac; trace=56d894d4-7fc5-45d3-9ff2-3a8d4d1057ac,id=900377e5-f02a-417c-a546-bf7f301d33f2; trace=56d894d4-7fc5-45d3-9ff2-3a8d4d1057ac,id=c28527ab-b634-4b40-8fac-fe43da5716f9; trace=56d894d4-7fc5-45d3-9ff2-3a8d4d1057ac,id=f35d68c4-4940-4ce6-aa8f-7076056e621b; trace=56d894d4-7fc5-45d3-9ff2-3a8d4d1057ac,id=cff6c37d-b055-4cbe-bd50-8453f7a663c8; trace=56d894d4-7fc5-45d3-9ff2-3a8d4d1057ac,id=95984c1b-d015-4ee3-8aa5-95e302db44b1; trace=56d894d4-7fc5-45d3-9ff2-3a8d4d1057ac,id=781ffdf6-f63c-497b-b68b-c5e2ce9d4381; trace=56d894d4-7fc5-45d3-9ff2-3a8d4d1057ac,id=a0d8512f-5c14-4d67-b702-f517bf16a44a; trace=56d894d4-7fc5-45d3-9ff2-3a8d4d1057ac,id=89cffc4b-e277-472b-970c-88c1bdf0316d; trace=56d894d4-7fc5-45d3-9ff2-3a8d4d1057ac,id=03a00427-6ea6-481b-8f93-0102c91c3cf5; trace=56d894d4-7fc5-45d3-9ff2-3a8d4d1057ac,id=ec2a9b00-0570-4466-a143-bc6988c10d39; trace=56d894d4-7fc5-45d3-9ff2-3a8d4d1057ac,id=781c1df4-50b0-4445-8ad7-b70575527f95; trace=adafa7b5-02f3-4076-88a1-d53a7f610126,id=adafa7b5-02f3-4076-88a1-d53a7f610126; trace=adafa7b5-02f3-4076-88a1-d53a7f610126,id=d92f8aaa-6876-4fa1-bbaa-1cc9e95b36d9; trace=adafa7b5-02f3-4076-88a1-d53a7f610126,id=cb2f44ee-b324-4f74-b17a-204dd8157ce5\n",
      "Failed to multipart ingest runs: Connection error caused failure to POST https://api.smith.langchain.com/runs/multipart in LangSmith API. Please confirm your internet connection. SSLError(MaxRetryError(\"HTTPSConnectionPool(host='api.smith.langchain.com', port=443): Max retries exceeded with url: /runs/multipart (Caused by SSLError(SSLCertVerificationError(1, '[SSL: CERTIFICATE_VERIFY_FAILED] certificate verify failed: self signed certificate in certificate chain (_ssl.c:992)')))\"))\n",
      "Content-Length: 23471\n",
      "API Key: lsv2_********************************************35trace=1b2e528d-5992-406c-93c1-0658dd07846b,id=1b2e528d-5992-406c-93c1-0658dd07846b; trace=1b2e528d-5992-406c-93c1-0658dd07846b,id=52d2dc97-7411-4a3c-8aa8-9d8789186acd; trace=1b2e528d-5992-406c-93c1-0658dd07846b,id=116fc29e-3f04-4e69-a5e4-907178eb2454; trace=1b2e528d-5992-406c-93c1-0658dd07846b,id=24fd3ab5-1667-45ad-99dc-78507cc86735; trace=1b2e528d-5992-406c-93c1-0658dd07846b,id=26dfb0d6-ccab-46ed-8258-00094326409e; trace=1b2e528d-5992-406c-93c1-0658dd07846b,id=a9a5f3f4-09e0-4c4b-88e3-18f70fc489e1; trace=1b2e528d-5992-406c-93c1-0658dd07846b,id=8a12ab2f-3e2d-4d87-af3c-03d2188fc01d; trace=1b2e528d-5992-406c-93c1-0658dd07846b,id=d902092a-88d6-4c95-be6d-9b4e0b336ed3; trace=1b2e528d-5992-406c-93c1-0658dd07846b,id=026aaf1c-7cbd-4373-a6ae-861a3b3d3778; trace=1b2e528d-5992-406c-93c1-0658dd07846b,id=de6f4a03-e104-43e0-bd89-bcdbc3a95cf9; trace=1b2e528d-5992-406c-93c1-0658dd07846b,id=4e007b26-05a7-41bf-a405-b568fa3d5be3; trace=1b2e528d-5992-406c-93c1-0658dd07846b,id=3ef6b30f-77f4-443a-bf26-2d2fa07bbfbd\n",
      "Failed to multipart ingest runs: Connection error caused failure to POST https://api.smith.langchain.com/runs/multipart in LangSmith API. Please confirm your internet connection. SSLError(MaxRetryError(\"HTTPSConnectionPool(host='api.smith.langchain.com', port=443): Max retries exceeded with url: /runs/multipart (Caused by SSLError(SSLCertVerificationError(1, '[SSL: CERTIFICATE_VERIFY_FAILED] certificate verify failed: self signed certificate in certificate chain (_ssl.c:992)')))\"))\n",
      "Content-Length: 16978\n",
      "API Key: lsv2_********************************************35trace=b6dc6be4-8b1e-4d2b-895e-84ef624e90b0,id=b6dc6be4-8b1e-4d2b-895e-84ef624e90b0; trace=b6dc6be4-8b1e-4d2b-895e-84ef624e90b0,id=481b95ea-e8d5-48e0-a036-c7f3ce7925c8; trace=b6dc6be4-8b1e-4d2b-895e-84ef624e90b0,id=c3e5f949-bc06-4eeb-be4b-08748636f952; trace=1b2e528d-5992-406c-93c1-0658dd07846b,id=1b2e528d-5992-406c-93c1-0658dd07846b; trace=1b2e528d-5992-406c-93c1-0658dd07846b,id=3ef6b30f-77f4-443a-bf26-2d2fa07bbfbd\n"
     ]
    }
   ],
   "source": [
    "# Execute the chain : input dtype as 'dictionary'\n",
    "chain.invoke({\"num\": 5})"
   ]
  },
  {
   "cell_type": "markdown",
   "id": "ac736fc2",
   "metadata": {},
   "source": [
    "However, with the update to the LangChain library, if the template includes **only one variable**, it is also possible to pass just the value directly."
   ]
  },
  {
   "cell_type": "code",
   "execution_count": 8,
   "id": "f4a2b5c5",
   "metadata": {},
   "outputs": [
    {
     "data": {
      "text/plain": [
       "AIMessage(content='10 times 5 is 50.', additional_kwargs={'refusal': None}, response_metadata={'token_usage': {'completion_tokens': 9, 'prompt_tokens': 15, 'total_tokens': 24, 'completion_tokens_details': {'accepted_prediction_tokens': 0, 'audio_tokens': 0, 'reasoning_tokens': 0, 'rejected_prediction_tokens': 0}, 'prompt_tokens_details': {'audio_tokens': 0, 'cached_tokens': 0}}, 'model_name': 'gpt-4o-mini-2024-07-18', 'system_fingerprint': 'fp_57db37749c', 'prompt_filter_results': [{'prompt_index': 0, 'content_filter_results': {'hate': {'filtered': False, 'severity': 'safe'}, 'self_harm': {'filtered': False, 'severity': 'safe'}, 'sexual': {'filtered': False, 'severity': 'safe'}, 'violence': {'filtered': False, 'severity': 'safe'}}}], 'finish_reason': 'stop', 'logprobs': None, 'content_filter_results': {'hate': {'filtered': False, 'severity': 'safe'}, 'self_harm': {'filtered': False, 'severity': 'safe'}, 'sexual': {'filtered': False, 'severity': 'safe'}, 'violence': {'filtered': False, 'severity': 'safe'}}}, id='run--fac939b7-5546-4a99-bdd1-b52f75b4722d-0', usage_metadata={'input_tokens': 15, 'output_tokens': 9, 'total_tokens': 24, 'input_token_details': {'audio': 0, 'cache_read': 0}, 'output_token_details': {'audio': 0, 'reasoning': 0}})"
      ]
     },
     "execution_count": 8,
     "metadata": {},
     "output_type": "execute_result"
    }
   ],
   "source": [
    "# Execute the chain : input value directly\n",
    "chain.invoke(5)"
   ]
  },
  {
   "cell_type": "markdown",
   "id": "ad8017f7",
   "metadata": {},
   "source": [
    "Here is an example using ```RunnablePassthrough```.\n",
    "```RunnablePassthrough``` is a ```runnable``` object with the following characteristics:\n",
    "\n",
    "1. **Basic Operation**\n",
    "   - Performs a simple pass-through function that forwards input values directly to output\n",
    "   - Can be executed independently using the ```invoke()``` method\n",
    "\n",
    "2. **Use Cases**\n",
    "   - Useful when you need to pass data through chain steps without modification\n",
    "   - Can be combined with other components to build complex data pipelines\n",
    "   - Particularly helpful when you need to preserve original input while adding new fields\n",
    "\n",
    "3. **Input Handling**\n",
    "   - Accepts dictionary-type inputs\n",
    "   - Can handle single values as well\n",
    "   - Maintains data structure throughout the chain"
   ]
  },
  {
   "cell_type": "code",
   "execution_count": 9,
   "id": "3b93e0a5",
   "metadata": {},
   "outputs": [
    {
     "data": {
      "text/plain": [
       "{'num': 10}"
      ]
     },
     "execution_count": 9,
     "metadata": {},
     "output_type": "execute_result"
    }
   ],
   "source": [
    "from langchain_core.runnables import RunnablePassthrough\n",
    "\n",
    "# Runnable\n",
    "RunnablePassthrough().invoke({\"num\": 10})"
   ]
  },
  {
   "cell_type": "markdown",
   "id": "5a77202f",
   "metadata": {},
   "source": [
    "Here is an example of creating a chain using ```RunnablePassthrough```."
   ]
  },
  {
   "cell_type": "code",
   "execution_count": 12,
   "id": "b6ade3d4",
   "metadata": {},
   "outputs": [
    {
     "data": {
      "text/plain": [
       "AIMessage(content='10 times 10 is 100.', additional_kwargs={'refusal': None}, response_metadata={'token_usage': {'completion_tokens': 9, 'prompt_tokens': 15, 'total_tokens': 24, 'completion_tokens_details': {'accepted_prediction_tokens': 0, 'audio_tokens': 0, 'reasoning_tokens': 0, 'rejected_prediction_tokens': 0}, 'prompt_tokens_details': {'audio_tokens': 0, 'cached_tokens': 0}}, 'model_name': 'gpt-4o-mini-2024-07-18', 'system_fingerprint': 'fp_57db37749c', 'prompt_filter_results': [{'prompt_index': 0, 'content_filter_results': {'hate': {'filtered': False, 'severity': 'safe'}, 'self_harm': {'filtered': False, 'severity': 'safe'}, 'sexual': {'filtered': False, 'severity': 'safe'}, 'violence': {'filtered': False, 'severity': 'safe'}}}], 'finish_reason': 'stop', 'logprobs': None, 'content_filter_results': {'hate': {'filtered': False, 'severity': 'safe'}, 'self_harm': {'filtered': False, 'severity': 'safe'}, 'sexual': {'filtered': False, 'severity': 'safe'}, 'violence': {'filtered': False, 'severity': 'safe'}}}, id='run--76998e3f-e80a-44da-bb5b-b39e2e3b1a34-0', usage_metadata={'input_tokens': 15, 'output_tokens': 9, 'total_tokens': 24, 'input_token_details': {'audio': 0, 'cache_read': 0}, 'output_token_details': {'audio': 0, 'reasoning': 0}})"
      ]
     },
     "execution_count": 12,
     "metadata": {},
     "output_type": "execute_result"
    }
   ],
   "source": [
    "runnable_chain = {\"num\": RunnablePassthrough()} | prompt | llm\n",
    "\n",
    "# The dict value has been updated with RunnablePassthrough().\n",
    "runnable_chain.invoke(10)"
   ]
  },
  {
   "cell_type": "markdown",
   "id": "31b96bc8",
   "metadata": {},
   "source": [
    "Here is a comparison of the results when using ```RunnablePassthrough.assign()```."
   ]
  },
  {
   "cell_type": "code",
   "execution_count": 15,
   "id": "5baf9b9c",
   "metadata": {},
   "outputs": [
    {
     "data": {
      "text/plain": [
       "{'num': 2}"
      ]
     },
     "execution_count": 15,
     "metadata": {},
     "output_type": "execute_result"
    }
   ],
   "source": [
    "RunnablePassthrough().invoke({\"num\": 2})"
   ]
  },
  {
   "cell_type": "markdown",
   "id": "e2d0e32b",
   "metadata": {},
   "source": [
    "```RunnablePassthrough.assign()```\n",
    "- Combines the key/value pairs from the input with the newly assigned key/value pairs."
   ]
  },
  {
   "cell_type": "code",
   "execution_count": 17,
   "id": "00bd941c",
   "metadata": {},
   "outputs": [
    {
     "data": {
      "text/plain": [
       "{'num': 3, 'new_num': 9}"
      ]
     },
     "execution_count": 17,
     "metadata": {},
     "output_type": "execute_result"
    }
   ],
   "source": [
    "# Input key: num, Assigned key: new_num\n",
    "(RunnablePassthrough.assign(new_num=lambda x: x[\"num\"] * 3)).invoke({\"num\": 3})"
   ]
  },
  {
   "cell_type": "markdown",
   "id": "13370494",
   "metadata": {},
   "source": [
    "## Efficient Parallel Execution with RunnableParallel\n",
    "\n",
    "```RunnableParallel``` is a utility designed to execute multiple ```Runnable``` objects concurrently, streamlining workflows that require parallel processing. It distributes input data across different components, collects their results, and combines them into a unified output. This functionality makes it a powerful tool for optimizing workflows where tasks can be performed independently and simultaneously.\n",
    "\n",
    "\n",
    "1. **Concurrent Execution**\n",
    "   - Executes multiple ```Runnable``` objects simultaneously, reducing the time required for tasks that can be parallelized.\n",
    "\n",
    "2. **Unified Output Management**\n",
    "   - Combines the results from all parallel executions into a single, cohesive output, simplifying downstream processing.\n",
    "\n",
    "3. **Flexibility**\n",
    "   - Can handle diverse input types and support complex workflows by distributing the workload efficiently."
   ]
  },
  {
   "cell_type": "code",
   "execution_count": 13,
   "id": "929d398b",
   "metadata": {},
   "outputs": [
    {
     "data": {
      "text/plain": [
       "{'passed': {'num': 1}, 'extra': {'num': 1, 'mult': 3}, 'modified': 2}"
      ]
     },
     "execution_count": 13,
     "metadata": {},
     "output_type": "execute_result"
    }
   ],
   "source": [
    "from langchain_core.runnables import RunnableParallel\n",
    "\n",
    "# Create an instance of RunnableParallel. This instance allows multiple Runnable objects to be executed in parallel.\n",
    "runnable = RunnableParallel(\n",
    "    # Pass a RunnablePassthrough instance as the 'passed' keyword argument. This simply passes the input data through without modification.\n",
    "    passed=RunnablePassthrough(),\n",
    "    # Use RunnablePassthrough.assign as the 'extra' keyword argument to assign a lambda function 'mult'. \n",
    "    # This function multiplies the value associated with the 'num' key in the input dictionary by 3.\n",
    "    extra=RunnablePassthrough.assign(mult=lambda x: x[\"num\"] * 3),\n",
    "    # Pass a lambda function as the 'modified' keyword argument. \n",
    "    # This function adds 1 to the value associated with the 'num' key in the input dictionary.\n",
    "    modified=lambda x: x[\"num\"] + 1,\n",
    ")\n",
    "\n",
    "# Call the invoke method on the runnable instance, passing a dictionary {'num': 1} as input.\n",
    "runnable.invoke({\"num\": 1})"
   ]
  },
  {
   "cell_type": "markdown",
   "id": "27516f65",
   "metadata": {},
   "source": [
    "Chains can also be applied to RunnableParallel."
   ]
  },
  {
   "cell_type": "code",
   "execution_count": 14,
   "id": "873c5f04",
   "metadata": {},
   "outputs": [],
   "source": [
    "chain1 = (\n",
    "    {\"country\": RunnablePassthrough()}\n",
    "    | PromptTemplate.from_template(\"What is the capital of {country}?\")\n",
    "    | ChatOpenAI()\n",
    ")\n",
    "chain2 = (\n",
    "    {\"country\": RunnablePassthrough()}\n",
    "    | PromptTemplate.from_template(\"What is the area of {country}?\")\n",
    "    | ChatOpenAI()\n",
    ")"
   ]
  },
  {
   "cell_type": "code",
   "execution_count": 15,
   "id": "92dc30d9",
   "metadata": {},
   "outputs": [
    {
     "data": {
      "text/plain": [
       "{'capital': AIMessage(content='The capital of the United States of America is Washington, D.C.', additional_kwargs={'refusal': None}, response_metadata={'token_usage': {'completion_tokens': 15, 'prompt_tokens': 17, 'total_tokens': 32, 'completion_tokens_details': {'accepted_prediction_tokens': 0, 'audio_tokens': 0, 'reasoning_tokens': 0, 'rejected_prediction_tokens': 0}, 'prompt_tokens_details': {'audio_tokens': 0, 'cached_tokens': 0}}, 'model_name': 'gpt-3.5-turbo-0125', 'system_fingerprint': None, 'finish_reason': 'stop', 'logprobs': None}, id='run-29437a26-8661-4f15-a655-3b3ca6aa0e8c-0', usage_metadata={'input_tokens': 17, 'output_tokens': 15, 'total_tokens': 32, 'input_token_details': {'audio': 0, 'cache_read': 0}, 'output_token_details': {'audio': 0, 'reasoning': 0}}),\n",
       " 'area': AIMessage(content='The total land area of the United States of America is approximately 3.8 million square miles.', additional_kwargs={'refusal': None}, response_metadata={'token_usage': {'completion_tokens': 21, 'prompt_tokens': 17, 'total_tokens': 38, 'completion_tokens_details': {'accepted_prediction_tokens': 0, 'audio_tokens': 0, 'reasoning_tokens': 0, 'rejected_prediction_tokens': 0}, 'prompt_tokens_details': {'audio_tokens': 0, 'cached_tokens': 0}}, 'model_name': 'gpt-3.5-turbo-0125', 'system_fingerprint': None, 'finish_reason': 'stop', 'logprobs': None}, id='run-5004e08c-dd66-4c7c-bc3f-60821fecc403-0', usage_metadata={'input_tokens': 17, 'output_tokens': 21, 'total_tokens': 38, 'input_token_details': {'audio': 0, 'cache_read': 0}, 'output_token_details': {'audio': 0, 'reasoning': 0}})}"
      ]
     },
     "execution_count": 15,
     "metadata": {},
     "output_type": "execute_result"
    }
   ],
   "source": [
    "combined_chain = RunnableParallel(capital=chain1, area=chain2)\n",
    "combined_chain.invoke(\"United States of America\")"
   ]
  },
  {
   "cell_type": "markdown",
   "id": "982775c8",
   "metadata": {},
   "source": [
    "## Dynamic Processing with RunnableLambda\n",
    "\n",
    "```RunnableLambda``` is a flexible utility that allows developers to define custom data transformation logic using lambda functions. By enabling quick and easy implementation of custom processing workflows, ```RunnableLambda``` simplifies the creation of tailored data pipelines while ensuring minimal setup overhead.\n",
    "\n",
    "1. **Customizable Data Transformation**\n",
    "   - Allows users to define custom logic for transforming input data using lambda functions, offering unparalleled flexibility.\n",
    "\n",
    "2. **Lightweight and Simple**\n",
    "   - Provides a straightforward way to implement ad-hoc processing without the need for extensive class or function definitions.\n"
   ]
  },
  {
   "cell_type": "code",
   "execution_count": 19,
   "id": "aa9fc167",
   "metadata": {},
   "outputs": [
    {
     "data": {
      "text/plain": [
       "'Jun-04'"
      ]
     },
     "execution_count": 19,
     "metadata": {},
     "output_type": "execute_result"
    }
   ],
   "source": [
    "from langchain_core.output_parsers import StrOutputParser\n",
    "from langchain_core.prompts import PromptTemplate\n",
    "from langchain_openai import ChatOpenAI, AzureChatOpenAI\n",
    "from datetime import datetime\n",
    "\n",
    "def get_today(a):\n",
    "    # Get today's date\n",
    "    return datetime.today().strftime(\"%b-%d\")\n",
    "\n",
    "# Print today's date\n",
    "get_today(None)"
   ]
  },
  {
   "cell_type": "code",
   "execution_count": 27,
   "id": "3247ca68",
   "metadata": {},
   "outputs": [],
   "source": [
    "from langchain_core.runnables import RunnableLambda, RunnablePassthrough\n",
    "\n",
    "# Create the prompt and llm\n",
    "prompt = PromptTemplate.from_template(\n",
    "    \"List {n} famous people whose birthday is on {today}. Include their date of birth.\"\n",
    ")\n",
    "# llm = ChatOpenAI(temperature=0, model_name=\"gpt-4o\")\n",
    "llm = AzureChatOpenAI(\n",
    "    temperature=0,\n",
    "    model_name=\"gpt-4o-mini\",  # Model name\n",
    "    azure_endpoint = AZURE_OPENAI_ENDPOINT,\n",
    "    openai_api_version = AZURE_OPENAI_API_VERSION,\n",
    "    deployment_name = AZURE_OPENAI_DEPLOYMENT_NAME,\n",
    "    openai_api_key = AZURE_OPENAI_API_KEY,\n",
    "    http_client = httpx_client\n",
    ")\n",
    "\n",
    "\n",
    "# Create the chain\n",
    "chain = (\n",
    "    {\"today\": RunnableLambda(get_today), \"n\": RunnablePassthrough()}\n",
    "    | prompt\n",
    "    | llm\n",
    "    | StrOutputParser()\n",
    ")"
   ]
  },
  {
   "cell_type": "code",
   "execution_count": 28,
   "id": "6c5ba7ee",
   "metadata": {},
   "outputs": [
    {
     "name": "stdout",
     "output_type": "stream",
     "text": [
      "Here are three famous people born on June 4:\n",
      "\n",
      "1. **Bar Refaeli** - Born on June 4, 1985\n",
      "2. **Scott Wolf** - Born on June 4, 1967\n",
      "3. **John Elway** - Born on June 4, 1960\n",
      "\n",
      "Let me know if you need more information!\n"
     ]
    }
   ],
   "source": [
    "# Output\n",
    "print(chain.invoke(3))"
   ]
  },
  {
   "cell_type": "markdown",
   "id": "564e7c3f",
   "metadata": {},
   "source": [
    "## Extracting Specific Keys Using ```itemgetter```\n",
    "\n",
    "```itemgetter``` is a utility function from Python's ```operator``` module with the following features and benefits:\n",
    "\n",
    "1. **Core Functionality**\n",
    "   - Efficiently extracts values from specific keys or indices in dictionaries, tuples, and lists\n",
    "   - Capable of extracting multiple keys or indices simultaneously\n",
    "   - Supports functional programming style\n",
    "\n",
    "2. **Performance Optimization**\n",
    "   - More efficient than regular indexing for repetitive key access operations\n",
    "   - Optimized memory usage\n",
    "   - Performance advantages when processing large datasets\n",
    "\n",
    "3. **Usage in LangChain**\n",
    "   - Data filtering in chain compositions\n",
    "   - Selective extraction from complex input structures\n",
    "   - Combines with other Runnable objects for data preprocessing\n"
   ]
  },
  {
   "cell_type": "code",
   "execution_count": 30,
   "id": "af3c8dea",
   "metadata": {},
   "outputs": [],
   "source": [
    "from operator import itemgetter\n",
    "\n",
    "from langchain_core.prompts import ChatPromptTemplate\n",
    "from langchain_core.runnables import RunnableLambda\n",
    "from langchain_openai import ChatOpenAI, AzureChatOpenAI\n",
    "\n",
    "\n",
    "# Function that returns the length of a sentence.\n",
    "def length_function(text):\n",
    "    return len(text)\n",
    "\n",
    "\n",
    "# Function that returns the product of the lengths of two sentences.\n",
    "def _multiple_length_function(text1, text2):\n",
    "    return len(text1) * len(text2)\n",
    "\n",
    "\n",
    "# Function that uses _multiple_length_function to return the product of the lengths of two sentences.\n",
    "def multiple_length_function(_dict):\n",
    "    return _multiple_length_function(_dict[\"text1\"], _dict[\"text2\"])\n",
    "\n",
    "\n",
    "prompt = ChatPromptTemplate.from_template(\"What is {a} + {b}?\")\n",
    "# model = ChatOpenAI()\n",
    "model = AzureChatOpenAI(\n",
    "    temperature=0,\n",
    "    model_name=\"gpt-4o-mini\",  # Model name\n",
    "    azure_endpoint = AZURE_OPENAI_ENDPOINT,\n",
    "    openai_api_version = AZURE_OPENAI_API_VERSION,\n",
    "    deployment_name = AZURE_OPENAI_DEPLOYMENT_NAME,\n",
    "    openai_api_key = AZURE_OPENAI_API_KEY,\n",
    "    http_client = httpx_client\n",
    ")\n",
    "\n",
    "chain1 = prompt | model\n",
    "\n",
    "chain = (\n",
    "    {\n",
    "        \"a\": itemgetter(\"word1\") | RunnableLambda(length_function),\n",
    "        \"b\": {\"text1\": itemgetter(\"word1\"), \"text2\": itemgetter(\"word2\")}\n",
    "        | RunnableLambda(multiple_length_function),\n",
    "    }\n",
    "    | prompt\n",
    "    | model\n",
    ")"
   ]
  },
  {
   "cell_type": "code",
   "execution_count": 32,
   "id": "31d8f148",
   "metadata": {},
   "outputs": [
    {
     "name": "stdout",
     "output_type": "stream",
     "text": [
      "content='5 + 25 equals 30.' additional_kwargs={'refusal': None} response_metadata={'token_usage': {'completion_tokens': 9, 'prompt_tokens': 15, 'total_tokens': 24, 'completion_tokens_details': {'accepted_prediction_tokens': 0, 'audio_tokens': 0, 'reasoning_tokens': 0, 'rejected_prediction_tokens': 0}, 'prompt_tokens_details': {'audio_tokens': 0, 'cached_tokens': 0}}, 'model_name': 'gpt-4o-mini-2024-07-18', 'system_fingerprint': 'fp_57db37749c', 'prompt_filter_results': [{'prompt_index': 0, 'content_filter_results': {'hate': {'filtered': False, 'severity': 'safe'}, 'self_harm': {'filtered': False, 'severity': 'safe'}, 'sexual': {'filtered': False, 'severity': 'safe'}, 'violence': {'filtered': False, 'severity': 'safe'}}}], 'finish_reason': 'stop', 'logprobs': None, 'content_filter_results': {'hate': {'filtered': False, 'severity': 'safe'}, 'self_harm': {'filtered': False, 'severity': 'safe'}, 'sexual': {'filtered': False, 'severity': 'safe'}, 'violence': {'filtered': False, 'severity': 'safe'}}} id='run--3ef6b30f-77f4-443a-bf26-2d2fa07bbfbd-0' usage_metadata={'input_tokens': 15, 'output_tokens': 9, 'total_tokens': 24, 'input_token_details': {'audio': 0, 'cache_read': 0}, 'output_token_details': {'audio': 0, 'reasoning': 0}}\n",
      "content='10 + 5 equals 15.' additional_kwargs={'refusal': None} response_metadata={'token_usage': {'completion_tokens': 9, 'prompt_tokens': 15, 'total_tokens': 24, 'completion_tokens_details': {'accepted_prediction_tokens': 0, 'audio_tokens': 0, 'reasoning_tokens': 0, 'rejected_prediction_tokens': 0}, 'prompt_tokens_details': {'audio_tokens': 0, 'cached_tokens': 0}}, 'model_name': 'gpt-4o-mini-2024-07-18', 'system_fingerprint': 'fp_57db37749c', 'prompt_filter_results': [{'prompt_index': 0, 'content_filter_results': {'hate': {'filtered': False, 'severity': 'safe'}, 'self_harm': {'filtered': False, 'severity': 'safe'}, 'sexual': {'filtered': False, 'severity': 'safe'}, 'violence': {'filtered': False, 'severity': 'safe'}}}], 'finish_reason': 'stop', 'logprobs': None, 'content_filter_results': {'hate': {'filtered': False, 'severity': 'safe'}, 'self_harm': {'filtered': False, 'severity': 'safe'}, 'sexual': {'filtered': False, 'severity': 'safe'}, 'violence': {'filtered': False, 'severity': 'safe'}}} id='run--c3e5f949-bc06-4eeb-be4b-08748636f952-0' usage_metadata={'input_tokens': 15, 'output_tokens': 9, 'total_tokens': 24, 'input_token_details': {'audio': 0, 'cache_read': 0}, 'output_token_details': {'audio': 0, 'reasoning': 0}}\n"
     ]
    }
   ],
   "source": [
    "print(chain.invoke({\"word1\": \"hello\", \"word2\": \"world\"}))\n",
    "print(chain1.invoke({\"a\":10, \"b\":\"5\"}))"
   ]
  }
 ],
 "metadata": {
  "kernelspec": {
   "display_name": "langchain-opentutorial-unqt6ecX-py3.11",
   "language": "python",
   "name": "python3"
  },
  "language_info": {
   "codemirror_mode": {
    "name": "ipython",
    "version": 3
   },
   "file_extension": ".py",
   "mimetype": "text/x-python",
   "name": "python",
   "nbconvert_exporter": "python",
   "pygments_lexer": "ipython3",
   "version": "3.11.0"
  }
 },
 "nbformat": 4,
 "nbformat_minor": 5
}
